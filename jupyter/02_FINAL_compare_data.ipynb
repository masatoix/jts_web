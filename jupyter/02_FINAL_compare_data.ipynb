{
 "metadata": {
  "language_info": {
   "codemirror_mode": {
    "name": "ipython",
    "version": 3
   },
   "file_extension": ".py",
   "mimetype": "text/x-python",
   "name": "python",
   "nbconvert_exporter": "python",
   "pygments_lexer": "ipython3",
   "version": "3.8.5-final"
  },
  "orig_nbformat": 2,
  "kernelspec": {
   "name": "python3",
   "display_name": "Python 3",
   "language": "python"
  }
 },
 "nbformat": 4,
 "nbformat_minor": 2,
 "cells": [
  {
   "cell_type": "code",
   "execution_count": 20,
   "metadata": {},
   "outputs": [],
   "source": [
    "import streamlit as st\n",
    "import pandas as pd\n",
    "import plotly.express as px\n",
    "from glob import glob"
   ]
  },
  {
   "cell_type": "code",
   "execution_count": 21,
   "metadata": {},
   "outputs": [],
   "source": [
    "# TA_NAMES = [\n",
    "#     \"森ひかる\",\n",
    "#     \"高木裕美\",\n",
    "#     \"櫻井愛菜\",\n",
    "#     \"田中沙季\",\n",
    "#     \"増崎セリナ\",\n",
    "#     \"小野晴茄\",\n",
    "#     \"澤田守杏\",\n",
    "#     \"播磨ここね\",\n",
    "#     \"田中希湖\",\n",
    "#     \"石田美咲希\",\n",
    "# ]\n",
    "\n",
    "input_file = 'output/measure/'\n",
    "output_file = 'compare/'\n"
   ]
  },
  {
   "cell_type": "code",
   "execution_count": 22,
   "metadata": {},
   "outputs": [
    {
     "output_type": "execute_result",
     "data": {
      "text/plain": [
       "['output/measure/播磨ここね_measure.xlsx',\n",
       " 'output/measure/石田美咲希_measure.xlsx',\n",
       " 'output/measure/高木裕美_measure.xlsx',\n",
       " 'output/measure/森ひかる_measure.xlsx',\n",
       " 'output/measure/櫻井愛菜_measure.xlsx',\n",
       " 'output/measure/田中希湖_measure.xlsx',\n",
       " 'output/measure/田中沙季_measure.xlsx',\n",
       " 'output/measure/澤田守杏_measure.xlsx',\n",
       " 'output/measure/小野晴茄_measure.xlsx',\n",
       " 'output/measure/増崎セリナ_measure.xlsx']"
      ]
     },
     "metadata": {},
     "execution_count": 22
    }
   ],
   "source": [
    "file_paths = glob(input_file+'*.xlsx')\n",
    "file_paths"
   ]
  },
  {
   "cell_type": "code",
   "execution_count": 23,
   "metadata": {},
   "outputs": [],
   "source": [
    "def extract(file_path):\n",
    "    df = pd.read_excel(file_path)\n",
    "    column = df.iloc[0, 2]\n",
    "    df = df.iloc[:, [1, 12]]\n",
    "    df = df.rename(columns={'20本ジャンプ (秒)':column})\n",
    "    return df\n"
   ]
  },
  {
   "cell_type": "code",
   "execution_count": 24,
   "metadata": {},
   "outputs": [],
   "source": [
    "df = pd.DataFrame()\n",
    "\n",
    "for file_path in file_paths:\n",
    "    df = pd.concat([df, extract(file_path)], axis=1)"
   ]
  },
  {
   "cell_type": "code",
   "execution_count": 25,
   "metadata": {},
   "outputs": [],
   "source": [
    "df = df.iloc[:, [0, 1, 3, 5, 7, 9, 11, 13, 15, 17, 19]]\n",
    "df.to_excel(output_file+'jump.xlsx', index=0)"
   ]
  },
  {
   "cell_type": "code",
   "execution_count": 26,
   "metadata": {},
   "outputs": [
    {
     "output_type": "execute_result",
     "data": {
      "text/plain": [
       "     播磨ここね      石田美咲希    高木裕美    森ひかる    櫻井愛菜    田中希湖    田中沙季    澤田守杏    小野晴茄  \\\n",
       "0   14.820  15.221401  15.460  15.510  15.180  14.710  15.240  15.090  14.925   \n",
       "1   14.870  15.180000  15.430  15.365  15.205  14.740  15.310  15.095  15.010   \n",
       "2   14.730  15.280000  15.515  16.100  15.350  14.830  15.380  15.070  15.110   \n",
       "3   14.830  15.200000  15.955  15.790  15.300  15.180  15.155  15.180  14.970   \n",
       "4   14.740  14.905000  15.950  15.940  15.130  15.060  15.070  15.290  14.990   \n",
       "5   14.730  14.690000  15.590  16.420  15.280  14.825  15.465  15.090  15.000   \n",
       "6   14.705  14.850000  15.520  15.720  15.150  15.120  15.350  15.345  15.065   \n",
       "7   14.765  15.110000  15.725  15.975  15.420  14.855  15.220  15.115  14.990   \n",
       "8   14.825  15.125000  15.350  15.790  15.465  15.090  15.220  15.485  14.990   \n",
       "9   14.860  14.510000  15.715  15.615  15.220  15.145  15.250  15.200  14.920   \n",
       "10  14.745  14.635000  15.345  15.405  15.140  15.045  15.110  15.385  15.020   \n",
       "11  14.845  14.565000  15.770  16.340  15.280  15.060  15.480  15.135  15.145   \n",
       "\n",
       "     増崎セリナ  \n",
       "0   15.010  \n",
       "1   14.985  \n",
       "2   15.195  \n",
       "3   15.090  \n",
       "4   14.945  \n",
       "5   15.110  \n",
       "6   15.000  \n",
       "7   14.995  \n",
       "8   15.100  \n",
       "9   15.050  \n",
       "10  14.995  \n",
       "11  14.975  "
      ],
      "text/html": "<div>\n<style scoped>\n    .dataframe tbody tr th:only-of-type {\n        vertical-align: middle;\n    }\n\n    .dataframe tbody tr th {\n        vertical-align: top;\n    }\n\n    .dataframe thead th {\n        text-align: right;\n    }\n</style>\n<table border=\"1\" class=\"dataframe\">\n  <thead>\n    <tr style=\"text-align: right;\">\n      <th></th>\n      <th>播磨ここね</th>\n      <th>石田美咲希</th>\n      <th>高木裕美</th>\n      <th>森ひかる</th>\n      <th>櫻井愛菜</th>\n      <th>田中希湖</th>\n      <th>田中沙季</th>\n      <th>澤田守杏</th>\n      <th>小野晴茄</th>\n      <th>増崎セリナ</th>\n    </tr>\n  </thead>\n  <tbody>\n    <tr>\n      <th>0</th>\n      <td>14.820</td>\n      <td>15.221401</td>\n      <td>15.460</td>\n      <td>15.510</td>\n      <td>15.180</td>\n      <td>14.710</td>\n      <td>15.240</td>\n      <td>15.090</td>\n      <td>14.925</td>\n      <td>15.010</td>\n    </tr>\n    <tr>\n      <th>1</th>\n      <td>14.870</td>\n      <td>15.180000</td>\n      <td>15.430</td>\n      <td>15.365</td>\n      <td>15.205</td>\n      <td>14.740</td>\n      <td>15.310</td>\n      <td>15.095</td>\n      <td>15.010</td>\n      <td>14.985</td>\n    </tr>\n    <tr>\n      <th>2</th>\n      <td>14.730</td>\n      <td>15.280000</td>\n      <td>15.515</td>\n      <td>16.100</td>\n      <td>15.350</td>\n      <td>14.830</td>\n      <td>15.380</td>\n      <td>15.070</td>\n      <td>15.110</td>\n      <td>15.195</td>\n    </tr>\n    <tr>\n      <th>3</th>\n      <td>14.830</td>\n      <td>15.200000</td>\n      <td>15.955</td>\n      <td>15.790</td>\n      <td>15.300</td>\n      <td>15.180</td>\n      <td>15.155</td>\n      <td>15.180</td>\n      <td>14.970</td>\n      <td>15.090</td>\n    </tr>\n    <tr>\n      <th>4</th>\n      <td>14.740</td>\n      <td>14.905000</td>\n      <td>15.950</td>\n      <td>15.940</td>\n      <td>15.130</td>\n      <td>15.060</td>\n      <td>15.070</td>\n      <td>15.290</td>\n      <td>14.990</td>\n      <td>14.945</td>\n    </tr>\n    <tr>\n      <th>5</th>\n      <td>14.730</td>\n      <td>14.690000</td>\n      <td>15.590</td>\n      <td>16.420</td>\n      <td>15.280</td>\n      <td>14.825</td>\n      <td>15.465</td>\n      <td>15.090</td>\n      <td>15.000</td>\n      <td>15.110</td>\n    </tr>\n    <tr>\n      <th>6</th>\n      <td>14.705</td>\n      <td>14.850000</td>\n      <td>15.520</td>\n      <td>15.720</td>\n      <td>15.150</td>\n      <td>15.120</td>\n      <td>15.350</td>\n      <td>15.345</td>\n      <td>15.065</td>\n      <td>15.000</td>\n    </tr>\n    <tr>\n      <th>7</th>\n      <td>14.765</td>\n      <td>15.110000</td>\n      <td>15.725</td>\n      <td>15.975</td>\n      <td>15.420</td>\n      <td>14.855</td>\n      <td>15.220</td>\n      <td>15.115</td>\n      <td>14.990</td>\n      <td>14.995</td>\n    </tr>\n    <tr>\n      <th>8</th>\n      <td>14.825</td>\n      <td>15.125000</td>\n      <td>15.350</td>\n      <td>15.790</td>\n      <td>15.465</td>\n      <td>15.090</td>\n      <td>15.220</td>\n      <td>15.485</td>\n      <td>14.990</td>\n      <td>15.100</td>\n    </tr>\n    <tr>\n      <th>9</th>\n      <td>14.860</td>\n      <td>14.510000</td>\n      <td>15.715</td>\n      <td>15.615</td>\n      <td>15.220</td>\n      <td>15.145</td>\n      <td>15.250</td>\n      <td>15.200</td>\n      <td>14.920</td>\n      <td>15.050</td>\n    </tr>\n    <tr>\n      <th>10</th>\n      <td>14.745</td>\n      <td>14.635000</td>\n      <td>15.345</td>\n      <td>15.405</td>\n      <td>15.140</td>\n      <td>15.045</td>\n      <td>15.110</td>\n      <td>15.385</td>\n      <td>15.020</td>\n      <td>14.995</td>\n    </tr>\n    <tr>\n      <th>11</th>\n      <td>14.845</td>\n      <td>14.565000</td>\n      <td>15.770</td>\n      <td>16.340</td>\n      <td>15.280</td>\n      <td>15.060</td>\n      <td>15.480</td>\n      <td>15.135</td>\n      <td>15.145</td>\n      <td>14.975</td>\n    </tr>\n  </tbody>\n</table>\n</div>"
     },
     "metadata": {},
     "execution_count": 26
    }
   ],
   "source": [
    "df"
   ]
  },
  {
   "cell_type": "code",
   "execution_count": null,
   "metadata": {},
   "outputs": [],
   "source": []
  }
 ]
}